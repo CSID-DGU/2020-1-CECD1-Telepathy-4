{
 "cells": [
  {
   "cell_type": "code",
   "execution_count": 48,
   "metadata": {},
   "outputs": [],
   "source": [
    "import pandas as pd # dataset load\n",
    "from pandas import DataFrame as df\n",
    "import numpy as np\n",
    "import math\n",
    "\n",
    "def dist(i, j, col): # 두 벡터 간의 거리를 구해 주는 distance 함수 선언\n",
    "    d = math.sqrt(math.pow(col.loc[j][0] - col.loc[i][0], 2) + math.pow(col.loc[j][1] - col.loc[i][1], 2) + math.pow(col.loc[j][2] - col.loc[i][2], 2) + math.pow(col.loc[j][3] - col.loc[i][3], 2) + math.pow(col.loc[j][4] - col.loc[i][4], 2) + math.pow(col.loc[j][5] - col.loc[i][5], 2))\n",
    "    return d\n",
    "# 거리 함수를 이렇게 정의해 놨었는데 pdist 검색해 보니까 다른 거리 함수도 적용할 수 있을 것 같음.\n",
    "# 참고: https://www.ibric.org/myboard/read.php?id=272298&Board=news\n",
    "\n",
    "csv = pd.read_csv(\"C://Users/saepi/Documents/University/grade4/semester2/CapstonDesign2/continue_two_days_rate_20000x.csv\")\n",
    "# 이거는 원래 파일 불러온 거\n",
    "\n",
    "n = len(csv) # 총 몇 명의 데이터인지\n",
    "\n",
    "cols = list(csv.columns)\n",
    "csv_x = csv[cols[1:]] # 원래 파일에서 이용하기 쉽게 person_id 없앤 데이터프레임\n",
    "#csv_x.tail()"
   ]
  },
  {
   "cell_type": "code",
   "execution_count": null,
   "metadata": {},
   "outputs": [],
   "source": [
    "sum = 0\n",
    "for i in range(1, len(csv_x)):\n",
    "    sum = sum + i # 데이터 간 거리를 구하는 총 경우의 수\n",
    "\n",
    "df = pd.DataFrame(index=range(0, sum), columns=['distance', 'start_point', 'end_point'])\n",
    "# 거리와 시작점, 끝점을 포함하는 데이터프레임 선언\n",
    "\n",
    "# 거리, 시작점, 끝점 구해서 데이터프레임에 저장\n",
    "k = 0\n",
    "\n",
    "for i in range(0, len(csv_x)):\n",
    "    for j in range(i + 1, len(csv_x)):\n",
    "        distance = dist(i, j, csv_x)\n",
    "        df.loc[k]=[distance, csv.loc[i][0], csv.loc[j][0]]\n",
    "        k = k + 1\n",
    "        \n",
    "# 거리 가까운 순으로 정렬한 데이터프레임\n",
    "df = df.sort_values(by=['distance'], axis=0, ascending=True)\n",
    "#df"
   ]
  },
  {
   "cell_type": "code",
   "execution_count": 47,
   "metadata": {},
   "outputs": [],
   "source": [
    "df.to_csv('distance.csv')"
   ]
  },
  {
   "cell_type": "code",
   "execution_count": 33,
   "metadata": {
    "scrolled": true
   },
   "outputs": [
    {
     "data": {
      "text/html": [
       "<div>\n",
       "<style scoped>\n",
       "    .dataframe tbody tr th:only-of-type {\n",
       "        vertical-align: middle;\n",
       "    }\n",
       "\n",
       "    .dataframe tbody tr th {\n",
       "        vertical-align: top;\n",
       "    }\n",
       "\n",
       "    .dataframe thead th {\n",
       "        text-align: right;\n",
       "    }\n",
       "</style>\n",
       "<table border=\"1\" class=\"dataframe\">\n",
       "  <thead>\n",
       "    <tr style=\"text-align: right;\">\n",
       "      <th></th>\n",
       "      <th>distance</th>\n",
       "      <th>non</th>\n",
       "    </tr>\n",
       "  </thead>\n",
       "  <tbody>\n",
       "    <tr>\n",
       "      <th>114</th>\n",
       "      <td>15.0322</td>\n",
       "      <td>1</td>\n",
       "    </tr>\n",
       "    <tr>\n",
       "      <th>0</th>\n",
       "      <td>16.7526</td>\n",
       "      <td>1</td>\n",
       "    </tr>\n",
       "    <tr>\n",
       "      <th>758</th>\n",
       "      <td>23.3672</td>\n",
       "      <td>1</td>\n",
       "    </tr>\n",
       "    <tr>\n",
       "      <th>683</th>\n",
       "      <td>25.7999</td>\n",
       "      <td>1</td>\n",
       "    </tr>\n",
       "    <tr>\n",
       "      <th>1024</th>\n",
       "      <td>25.8528</td>\n",
       "      <td>1</td>\n",
       "    </tr>\n",
       "  </tbody>\n",
       "</table>\n",
       "</div>"
      ],
      "text/plain": [
       "     distance  non\n",
       "114   15.0322    1\n",
       "0     16.7526    1\n",
       "758   23.3672    1\n",
       "683   25.7999    1\n",
       "1024  25.8528    1"
      ]
     },
     "execution_count": 33,
     "metadata": {},
     "output_type": "execute_result"
    }
   ],
   "source": [
    "# K-Means 적용해 보기\n",
    "\n",
    "# 거리 가까운 순으로 정렬한 데이터프레임\n",
    "df = df.sort_values(by=['distance'], axis=0, ascending=True)\n",
    "df['non'] = 1\n",
    "clu = df.loc[:, ['distance', 'non']]\n",
    "clu.head()\n",
    "\n",
    "from sklearn.cluster import KMeans\n",
    "import matplotlib.pyplot  as plt\n",
    "import seaborn as sns\n",
    "\n",
    "# create model and prediction\n",
    "model = KMeans(n_clusters=6,algorithm='auto')\n",
    "model.fit(clu)\n",
    "predict = pd.DataFrame(model.predict(clu)) \n",
    "predict.columns=['predict']\n",
    "\n",
    "# concatenate labels to df as a new column\n",
    "r = pd.concat([clu,predict],axis=1)\n",
    "\n",
    "plt.scatter(r['distance'],r['non'],c=r['predict'],alpha=0.5)\n",
    "\n",
    "centers = pd.DataFrame(model.cluster_centers_,columns=['distance','non'])\n",
    "center_x = centers['distance']\n",
    "center_y = centers['non']\n",
    "plt.scatter(center_x,center_y,s=50,marker='D',c='r')\n",
    "\n",
    "plt.show()"
   ]
  },
  {
   "cell_type": "code",
   "execution_count": 6,
   "metadata": {},
   "outputs": [],
   "source": [
    "# 분산 넣으려고\n",
    "\n",
    "import pandas as pd # dataset load\n",
    "from pandas import DataFrame as df\n",
    "import numpy as np\n",
    "import math\n",
    "\n",
    "def dist(i, j, col): # 두 벡터 간의 거리를 구해 주는 distance 함수 선언\n",
    "    d = math.sqrt(math.pow(col.loc[j][0] - col.loc[i][0], 2) + math.pow(col.loc[j][1] - col.loc[i][1], 2) + math.pow(col.loc[j][2] - col.loc[i][2], 2) + math.pow(col.loc[j][3] - col.loc[i][3], 2) + math.pow(col.loc[j][4] - col.loc[i][4], 2) + math.pow(col.loc[j][5] - col.loc[i][5], 2))\n",
    "    return d\n",
    "# 거리 함수를 이렇게 정의해 놨었는데 pdist 검색해 보니까 다른 거리 함수도 적용할 수 있을 것 같음.\n",
    "# 참고: https://www.ibric.org/myboard/read.php?id=272298&Board=news\n",
    "\n",
    "csv = pd.read_csv(\"C://Users/saepi/Documents/University/grade4/semester2/CapstonDesign2/sub_and_var.csv\")\n",
    "# 이거는 원래 파일 불러온 거\n",
    "\n",
    "n = len(csv) # 총 몇 명의 데이터인지\n",
    "\n",
    "cols = list(csv.columns)\n",
    "csv_x = csv[cols[1:7]] # 원래 파일에서 이용하기 쉽게 person_id 없앤 데이터프레임\n",
    "var = csv[cols[9]] # 분산\n",
    "df['var'] = var # 분산 열을 새로 만들어서 데이터프레임에 추가\n",
    "df"
   ]
  },
  {
   "cell_type": "code",
   "execution_count": 7,
   "metadata": {},
   "outputs": [],
   "source": [
    "df = pd.DataFrame(np.arange(n*n).reshape(n, n))\n",
    "# 거리와 시작점, 끝점을 포함하는 데이터프레임 선언\n",
    "\n",
    "dist_list = [] # 한 행 담을 리스트\n",
    "\n",
    "# 거리, 시작점, 끝점 구해서 len(csv_x) * len(csv_x) 사이즈 데이터프레임에 저장\n",
    "for i in range(0, n):\n",
    "    dist_list = []\n",
    "    for j in range(0, n):\n",
    "        distance = dist(i, j, csv_x)\n",
    "        dist_list.append(distance)\n",
    "    df.loc[i] = dist_list\n",
    "    \n",
    "#df"
   ]
  },
  {
   "cell_type": "code",
   "execution_count": 17,
   "metadata": {},
   "outputs": [],
   "source": [
    "# 이건 point_list라는 리스트를 만들어서 거리 구한 거임\n",
    "k = 0\n",
    "point_list = []\n",
    "\n",
    "for i in range(0, len(csv_x)):\n",
    "    for j in range(i + 1, len(csv_x)):\n",
    "        a = dist(i, j, csv_x)\n",
    "        point_list.append(a)\n",
    "        k = k + 1\n",
    "        \n",
    "# 이건 리스트로 구한 거를 데이터프레임으로 바꿔서 distance라는 name 달아 준 거\n",
    "\n",
    "df = pd.DataFrame(point_list)\n",
    "df.columns = ['distance']\n",
    "df['index'] = np.arange(len(point_list))\n",
    "df.head()"
   ]
  },
  {
   "cell_type": "code",
   "execution_count": null,
   "metadata": {},
   "outputs": [],
   "source": [
    "csv.loc[0][0] # person_id 구하는 거"
   ]
  },
  {
   "cell_type": "code",
   "execution_count": null,
   "metadata": {},
   "outputs": [],
   "source": [
    "csv_x.loc[0][5] # 이걸 왜 썼냐면... 데이터프레임의 한 원소에 접근하는 방법 알려고"
   ]
  }
 ],
 "metadata": {
  "kernelspec": {
   "display_name": "Python 3",
   "language": "python",
   "name": "python3"
  },
  "language_info": {
   "codemirror_mode": {
    "name": "ipython",
    "version": 3
   },
   "file_extension": ".py",
   "mimetype": "text/x-python",
   "name": "python",
   "nbconvert_exporter": "python",
   "pygments_lexer": "ipython3",
   "version": "3.7.3"
  }
 },
 "nbformat": 4,
 "nbformat_minor": 2
}
