{
 "cells": [
  {
   "cell_type": "code",
   "execution_count": 9,
   "metadata": {},
   "outputs": [],
   "source": [
    "import pandas as pd # dataset load\n",
    "from pandas import DataFrame as df\n",
    "import numpy as np\n",
    "\n",
    "csv = pd.read_csv(\"C://Users/saepi/Documents/University/grade4/semester2/CapstonDesign2/distance.csv\")\n",
    "# 이거는 거리랑 인덱스, 사용자 id 있는 파일 불러온 거\n",
    "\n",
    "data = len(csv)"
   ]
  },
  {
   "cell_type": "code",
   "execution_count": 10,
   "metadata": {},
   "outputs": [],
   "source": [
    "# 1차원 리스트에서 중복 요소 제거하고 정렬하는 함수\n",
    "def delete_dup_1d(cluster):\n",
    "    set1 = set(cluster)\n",
    "    cluster = list(set1)\n",
    "    \n",
    "    # 리스트 원소 차례대로 정렬하는 코드\n",
    "    cluster = sorted(cluster)\n",
    "\n",
    "    return cluster\n",
    "\n",
    "# 이건 중복 요소 제거하는 코드\n",
    "def delete_dup_2d(cluster):\n",
    "    new_cluster = [[] for _ in range(n)] # cluster 역할을 할 2차원 빈 리스트 선언\n",
    "    \n",
    "    for i in range(0, len(cluster)):\n",
    "        for v in cluster[i]:\n",
    "            if v not in new_cluster[i]:\n",
    "                new_cluster[i].append(v)\n",
    "\n",
    "    # 리스트 원소 차례대로 정렬하는 코드\n",
    "    for i in range(0, len(new_cluster)):\n",
    "        cluster[i] = sorted(new_cluster[i])\n",
    "\n",
    "    del new_cluster\n",
    "    \n",
    "    return cluster"
   ]
  },
  {
   "cell_type": "code",
   "execution_count": 11,
   "metadata": {},
   "outputs": [],
   "source": [
    "#n = len(csv_n) # 총 몇 명의 데이터인지\n",
    "n = 214 # 총 몇 명의 데이터인지\n",
    "cluster = [[] for _ in range(n)] # cluster 역할을 할 2차원 빈 리스트 선언\n",
    "\n",
    "for i in range(0, data):\n",
    "    if (csv.loc[i][1] < 50): # 거리가 50 미만이면\n",
    "        cluster[csv.loc[i][2]].append(csv.loc[i][2]) # bucket에 start_index를 삽입\n",
    "        cluster[csv.loc[i][2]].append(csv.loc[i][4]) # bucket에 end_index를 삽입\n",
    "        \n",
    "cluster = delete_dup_2d(cluster)"
   ]
  },
  {
   "cell_type": "code",
   "execution_count": 12,
   "metadata": {},
   "outputs": [],
   "source": [
    "# 중복 원소 없애고 정렬하는 코드\n",
    "k = 0\n",
    "\n",
    "for i in range(0, len(cluster)): # 2차원 리스트 배열에 한 줄(총 214줄)씩 접근\n",
    "    if len(cluster[i]) != 0: # 원소가 없는 리스트가 아닌 이상\n",
    "        k = cluster[i].index(i) # k에 i의 index를 저장해서\n",
    "        #import pdb; pdb.set_trace()\n",
    "        if (k + 1) == len(cluster[i]): # 끝 값이면\n",
    "            continue\n",
    "        else:\n",
    "            row = cluster[i][k + 1] # 그 다음 값을 저장하고\n",
    "            cluster[row].extend(cluster[i]) # 그 행에 원소 합침\n",
    "            cluster[row] = delete_dup_1d(cluster[row]) # 중복 제거하고 재정렬\n",
    "            del cluster[i][:] # 원래 행은 비워 줌"
   ]
  },
  {
   "cell_type": "code",
   "execution_count": 13,
   "metadata": {},
   "outputs": [],
   "source": [
    "# 이건 쌍방으로 넣는 코드\n",
    "\n",
    "#n = len(csv_n) # 총 몇 명의 데이터인지\n",
    "n = 214 # 총 몇 명의 데이터인지\n",
    "cluster = [[] for _ in range(n)] # cluster 역할을 할 2차원 빈 리스트 선언\n",
    "\n",
    "for i in range(0, data):\n",
    "    if (csv.loc[i][1] < 45): # 거리가 50 미만이면\n",
    "        cluster[csv.loc[i][2]].append(csv.loc[i][2]) # bucket에 start_index를 삽입\n",
    "        cluster[csv.loc[i][2]].append(csv.loc[i][4]) # bucket에 end_index를 삽입\n",
    "        cluster[csv.loc[i][4]].append(csv.loc[i][2]) # bucket에 start_index를 삽입\n",
    "        cluster[csv.loc[i][4]].append(csv.loc[i][4]) # bucket에 end_index를 삽입    \n",
    "        \n",
    "cluster = delete_dup_2d(cluster)"
   ]
  },
  {
   "cell_type": "code",
   "execution_count": null,
   "metadata": {},
   "outputs": [],
   "source": []
  }
 ],
 "metadata": {
  "kernelspec": {
   "display_name": "Python 3",
   "language": "python",
   "name": "python3"
  },
  "language_info": {
   "codemirror_mode": {
    "name": "ipython",
    "version": 3
   },
   "file_extension": ".py",
   "mimetype": "text/x-python",
   "name": "python",
   "nbconvert_exporter": "python",
   "pygments_lexer": "ipython3",
   "version": "3.7.3"
  }
 },
 "nbformat": 4,
 "nbformat_minor": 2
}
