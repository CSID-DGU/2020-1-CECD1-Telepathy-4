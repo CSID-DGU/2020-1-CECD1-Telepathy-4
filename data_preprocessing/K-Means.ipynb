{
 "cells": [
  {
   "cell_type": "code",
   "execution_count": 136,
   "metadata": {},
   "outputs": [],
   "source": [
    "import pandas as pd # dataset load\n",
    "from pandas import DataFrame as df\n",
    "import numpy as np\n",
    "\n",
    "csv = pd.read_csv(\"C://Users/saepi/Documents/University/grade4/semester2/CapstonDesign2/continue_two_days_rate_20000x.csv\",\n",
    "                 encoding = 'utf-8', index_col = [\"person_id\"])\n",
    "# Outlier 제거한 증감률 파일 불러옴\n",
    "\n",
    "#print(csv.head())"
   ]
  },
  {
   "cell_type": "code",
   "execution_count": 137,
   "metadata": {},
   "outputs": [],
   "source": [
    "from sklearn.cluster import KMeans\n",
    "clusters = 6\n",
    "\n",
    "#kmeans = KMeans(n_clusters = clusters)\n",
    "kmeans = KMeans(n_clusters = clusters, init='k-means++')\n",
    "kmeans.fit(csv)\n",
    "\n",
    "labels = kmeans.labels_"
   ]
  },
  {
   "cell_type": "code",
   "execution_count": 138,
   "metadata": {},
   "outputs": [],
   "source": [
    "data = kmeans.labels_\n",
    "csv['kmeans'] = data\n",
    "ct = pd.crosstab(csv['kmeans'], ['predict'])\n",
    "#print(ct)"
   ]
  },
  {
   "cell_type": "code",
   "execution_count": 139,
   "metadata": {},
   "outputs": [],
   "source": [
    "from sklearn.decomposition import PCA\n",
    "\n",
    "pca = PCA(3)\n",
    "pca.fit(csv)\n",
    "\n",
    "pca_data = pd.DataFrame(pca.transform(csv))\n",
    "\n",
    "#print(pca_data.head())"
   ]
  },
  {
   "cell_type": "code",
   "execution_count": 140,
   "metadata": {},
   "outputs": [],
   "source": [
    "from matplotlib import colors as mcolors \n",
    "import math \n",
    "   \n",
    "''' Generating different colors in ascending order  \n",
    "                                of their hsv values '''\n",
    "colors = list(zip(*sorted(( \n",
    "                    tuple(mcolors.rgb_to_hsv( \n",
    "                          mcolors.to_rgba(color)[:3])), name) \n",
    "                     for name, color in dict( \n",
    "                            mcolors.BASE_COLORS, **mcolors.CSS4_COLORS \n",
    "                                                      ).items())))[1] \n",
    "   \n",
    "   \n",
    "# number of steps to taken generate n(clusters) colors  \n",
    "skips = math.floor(len(colors[5 : -5])/clusters) \n",
    "cluster_colors = colors[5 : -5 : skips] "
   ]
  },
  {
   "cell_type": "code",
   "execution_count": null,
   "metadata": {},
   "outputs": [],
   "source": [
    "from mpl_toolkits.mplot3d import Axes3D \n",
    "import matplotlib.pyplot as plt \n",
    "   \n",
    "fig = plt.figure() \n",
    "ax = fig.add_subplot(111, projection = '3d') \n",
    "ax.scatter(pca_data[0], pca_data[1], pca_data[2],  \n",
    "           c = list(map(lambda label : cluster_colors[label], \n",
    "                                            kmeans.labels_))) \n",
    "   \n",
    "str_labels = list(map(lambda label:'% s' % label, kmeans.labels_)) \n",
    "   \n",
    "list(map(lambda data1, data2, data3, str_label: \n",
    "        ax.text(data1, data2, data3, s = str_label, size = 16.5, \n",
    "        zorder = 20, color = 'k'), pca_data[0], pca_data[1], \n",
    "        pca_data[2], str_labels)) \n",
    "   \n",
    "plt.show() "
   ]
  },
  {
   "cell_type": "code",
   "execution_count": null,
   "metadata": {},
   "outputs": [],
   "source": [
    "import seaborn as sns \n",
    "  \n",
    "# generating correlation heatmap \n",
    "sns.heatmap(csv.corr(), annot = True) \n",
    "  \n",
    "# posting correlation heatmap to output console  \n",
    "plt.show() "
   ]
  },
  {
   "cell_type": "code",
   "execution_count": null,
   "metadata": {},
   "outputs": [],
   "source": [
    "from matplotlib import cm \n",
    "  \n",
    "# generating correlation data \n",
    "df = csv.corr() \n",
    "df.index = range(0, len(df)) \n",
    "df.rename(columns = dict(zip(df.columns, df.index)), inplace = True) \n",
    "df = df.astype(object) \n",
    "  \n",
    "''' Generating coordinates with  \n",
    "corresponding correlation values '''\n",
    "for i in range(0, len(df)): \n",
    "    for j in range(0, len(df)): \n",
    "        if i != j: \n",
    "            df.iloc[i, j] = (i, j, df.iloc[i, j]) \n",
    "        else : \n",
    "            df.iloc[i, j] = (i, j, 0) \n",
    "  \n",
    "df_list = [] \n",
    "  \n",
    "# flattening dataframe values \n",
    "for sub_list in df.values: \n",
    "    df_list.extend(sub_list) \n",
    "  \n",
    "# converting list of tuples into trivariate dataframe \n",
    "plot_df = pd.DataFrame(df_list) \n",
    "  \n",
    "fig = plt.figure() \n",
    "ax = Axes3D(fig) \n",
    "  \n",
    "# plotting 3D trisurface plot \n",
    "ax.plot_trisurf(plot_df[0], plot_df[1], plot_df[2],  \n",
    "                    cmap = cm.jet, linewidth = 0.2) \n",
    "  \n",
    "plt.show() "
   ]
  },
  {
   "cell_type": "code",
   "execution_count": 129,
   "metadata": {},
   "outputs": [],
   "source": [
    "csv.to_csv('kmeans.csv')"
   ]
  },
  {
   "cell_type": "code",
   "execution_count": 144,
   "metadata": {},
   "outputs": [],
   "source": [
    "db = DBSCAN(eps=0.2, min_samples=5, metric='euclidean')\n",
    "y_db = db.fit_predict(csv)\n",
    "#y_db\n",
    "# DBSCAN으로 해 본 것. 그러나 https://m.blog.naver.com/samsjang/221023672149에 따르면 유클리디안 거리의 경우 차원의 저주 때문에 제대로 된 값이 안 나올 수 있다는 언급."
   ]
  },
  {
   "cell_type": "code",
   "execution_count": null,
   "metadata": {},
   "outputs": [],
   "source": []
  }
 ],
 "metadata": {
  "kernelspec": {
   "display_name": "Python 3",
   "language": "python",
   "name": "python3"
  },
  "language_info": {
   "codemirror_mode": {
    "name": "ipython",
    "version": 3
   },
   "file_extension": ".py",
   "mimetype": "text/x-python",
   "name": "python",
   "nbconvert_exporter": "python",
   "pygments_lexer": "ipython3",
   "version": "3.7.3"
  }
 },
 "nbformat": 4,
 "nbformat_minor": 2
}
