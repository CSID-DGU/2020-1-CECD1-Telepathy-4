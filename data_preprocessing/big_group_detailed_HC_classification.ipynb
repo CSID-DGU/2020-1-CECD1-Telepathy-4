{
 "cells": [
  {
   "cell_type": "code",
   "execution_count": 35,
   "metadata": {},
   "outputs": [],
   "source": [
    "import csv\n",
    "import pandas as pd\n",
    "import os\n",
    "import shutil"
   ]
  },
  {
   "cell_type": "code",
   "execution_count": 41,
   "metadata": {},
   "outputs": [],
   "source": [
    "group1 = pd.read_csv('./1/group1_scaled_2_HC.csv')\n",
    "group2_no_scaled = pd.read_csv('./2/group2_no_scaled_4_HC.csv')\n",
    "group2_scaled = pd.read_csv('./2/group2_scaled_4_HC.csv')"
   ]
  },
  {
   "cell_type": "code",
   "execution_count": 42,
   "metadata": {},
   "outputs": [],
   "source": [
    "def mapping_name(fname, folder, dfolder): # csv의 data name : numberXX와 같은 png 파일 이름 찾기\n",
    "    file_name = os.listdir(folder)\n",
    "    png_name = file_name[:]\n",
    "\n",
    "    for i in range(0, len(png_name)):\n",
    "        fn = png_name[i]\n",
    "        if fname == fn:\n",
    "            src = folder + fn\n",
    "            dst = folder + dfolder + '/'\n",
    "            shutil.copy2(src, dst)"
   ]
  },
  {
   "cell_type": "code",
   "execution_count": 39,
   "metadata": {},
   "outputs": [],
   "source": [
    "# scaled한 group1에 대하여 다시 클러스터링한 결과를 바탕으로 detailed grouping\n",
    "folder = './1/'\n",
    "dfolder = ''\n",
    "for i in range(0, len(group1)):\n",
    "    c = group1.iloc[i, 1] # grouping number\n",
    "    n = group1.iloc[i, 0] # name : numberXX\n",
    "    extender = '.png'\n",
    "    png_n = n + extender\n",
    "\n",
    "    if c == 1:\n",
    "        dfolder = '1_1'\n",
    "    elif c == 2:\n",
    "        dfolder = '1_2'\n",
    "    mapping_name(png_n, folder, dfolder)"
   ]
  },
  {
   "cell_type": "code",
   "execution_count": 43,
   "metadata": {},
   "outputs": [],
   "source": [
    "# no scaled한 group2에 대하여 다시 클러스터링한 결과를 바탕으로 detailed grouping\n",
    "folder = './2/'\n",
    "dfolder = ''\n",
    "for i in range(0, len(group2_no_scaled)):\n",
    "    c = group2_no_scaled.iloc[i, 1] # grouping number\n",
    "    n = group2_no_scaled.iloc[i, 0] # name : numberXX\n",
    "    extender = '.png'\n",
    "    png_n = n + extender\n",
    "\n",
    "    if c == 1:\n",
    "        dfolder = '2_1_noscaled'\n",
    "    elif c == 2:\n",
    "        dfolder = '2_2_noscaled'\n",
    "    elif c == 3:\n",
    "        dfolder = '2_3_noscaled'\n",
    "    elif c == 4:\n",
    "        dfolder = '2_4_noscaled'\n",
    "    mapping_name(png_n, folder, dfolder)"
   ]
  },
  {
   "cell_type": "code",
   "execution_count": 44,
   "metadata": {},
   "outputs": [],
   "source": [
    "# scaled한 group2에 대하여 다시 클러스터링한 결과를 바탕으로 detailed grouping\n",
    "folder = './2/'\n",
    "dfolder = ''\n",
    "for i in range(0, len(group2_scaled)):\n",
    "    c = group2_scaled.iloc[i, 1] # grouping number\n",
    "    n = group2_scaled.iloc[i, 0] # name : numberXX\n",
    "    extender = '.png'\n",
    "    png_n = n + extender\n",
    "\n",
    "    if c == 1:\n",
    "        dfolder = '2_1_scaled'\n",
    "    elif c == 2:\n",
    "        dfolder = '2_2_scaled'\n",
    "    elif c == 3:\n",
    "        dfolder = '2_3_scaled'\n",
    "    elif c == 4:\n",
    "        dfolder = '2_4_scaled'\n",
    "    mapping_name(png_n, folder, dfolder)"
   ]
  },
  {
   "cell_type": "code",
   "execution_count": 46,
   "metadata": {},
   "outputs": [],
   "source": [
    "# scaled한 group2에 대하여 다시 클러스터링한 결과를 바탕으로 detailed grouping\n",
    "group2 = pd.read_csv('./2/group2_scaled_2_HC.csv')\n",
    "folder = './2/'\n",
    "dfolder = ''\n",
    "for i in range(0, len(group2)):\n",
    "    c = group2.iloc[i, 1] # grouping number\n",
    "    n = group2.iloc[i, 0] # name : numberXX\n",
    "    extender = '.png'\n",
    "    png_n = n + extender\n",
    "\n",
    "    if c == 1:\n",
    "        dfolder = '2_1'\n",
    "    elif c == 2:\n",
    "        dfolder = '2_2'\n",
    "    #elif c == 3:\n",
    "        #dfolder = '2_3'\n",
    "        \n",
    "    mapping_name(png_n, folder, dfolder)"
   ]
  },
  {
   "cell_type": "code",
   "execution_count": null,
   "metadata": {},
   "outputs": [],
   "source": []
  }
 ],
 "metadata": {
  "kernelspec": {
   "display_name": "Python 3",
   "language": "python",
   "name": "python3"
  },
  "language_info": {
   "codemirror_mode": {
    "name": "ipython",
    "version": 3
   },
   "file_extension": ".py",
   "mimetype": "text/x-python",
   "name": "python",
   "nbconvert_exporter": "python",
   "pygments_lexer": "ipython3",
   "version": "3.8.3"
  }
 },
 "nbformat": 4,
 "nbformat_minor": 4
}
