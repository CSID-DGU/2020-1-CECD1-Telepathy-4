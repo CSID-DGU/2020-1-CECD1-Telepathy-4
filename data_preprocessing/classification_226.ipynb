{
 "cells": [
  {
   "cell_type": "code",
   "execution_count": 34,
   "metadata": {},
   "outputs": [],
   "source": [
    "import csv\n",
    "import pandas as pd\n",
    "import numpy as np\n",
    "import matplotlib as mpl\n",
    "import matplotlib.pylab as plt"
   ]
  },
  {
   "cell_type": "code",
   "execution_count": 35,
   "metadata": {},
   "outputs": [],
   "source": [
    "data_226 = pd.read_csv('./all_data_no_scaled_11_12.csv')\n",
    "names = data_226.iloc[:, 0] # person_id 행 삭제"
   ]
  },
  {
   "cell_type": "code",
   "execution_count": 38,
   "metadata": {},
   "outputs": [],
   "source": [
    "font_name = mpl.font_manager.FontProperties(fname='C:/Windows/Fonts/malgun.ttf').get_name()\n",
    "mpl.rc('font', family=font_name)"
   ]
  },
  {
   "cell_type": "code",
   "execution_count": 41,
   "metadata": {},
   "outputs": [
    {
     "name": "stdout",
     "output_type": "stream",
     "text": [
      "finish\n"
     ]
    },
    {
     "data": {
      "text/plain": [
       "<Figure size 864x288 with 0 Axes>"
      ]
     },
     "metadata": {},
     "output_type": "display_data"
    }
   ],
   "source": [
    "idx = 0\n",
    "for i in range(0, len(data_226)):\n",
    "    group = data_226.iloc[i, 9]\n",
    "    #print(group)\n",
    "    data = data_226.iloc[i, 1:8]\n",
    "    folder = './img_226_12/'\n",
    "    dfolder =''\n",
    "    if group == 1:\n",
    "        dfolder = '1'\n",
    "    elif group == 2:\n",
    "        dfolder = '2'\n",
    "    elif group == 3:\n",
    "        dfolder = '3'\n",
    "    elif group == 4:\n",
    "        dfolder = '4'\n",
    "    elif group == 5:\n",
    "        dfolder = '5'\n",
    "    elif group == 6:\n",
    "        dfolder = '6'\n",
    "    elif group == 7:\n",
    "        dfolder = '7'\n",
    "    elif group == 8:\n",
    "        dfolder = '8'\n",
    "    elif group == 9:\n",
    "        dfolder = '9'\n",
    "    elif group == 10:\n",
    "        dfolder = '10'\n",
    "    elif group == 11:\n",
    "        dfolder = '11'\n",
    "    elif group == 12:\n",
    "        dfolder = '12'\n",
    "    # 이미지로 저장\n",
    "    data = data.astype('float')\n",
    "    person = 'number' + str(idx)\n",
    "    tt = person + ' : 일주일의 평균 걸음 수 그래프'\n",
    "    ax = data.plot(title=tt, figsize=(12,4), legend=True, fontsize=12)\n",
    "    ax.set_xlabel('요일', fontsize=12)\n",
    "    ax.set_ylabel('걸음 수', fontsize=12)\n",
    "    ax.legend(['걸음 수'], fontsize=12)\n",
    "\n",
    "    plt.ylim(0, 20000) # y축 범위 설정\n",
    "    # 여기까지 한 행 그래프 그리기\n",
    "    img_name = folder+dfolder+'/number'+str(idx)+ '.png'\n",
    "    #print(img_name)\n",
    "    plt.savefig(img_name)\n",
    "    plt.clf()\n",
    "        \n",
    "    idx += 1\n",
    "\n",
    "print(\"finish\")"
   ]
  },
  {
   "cell_type": "code",
   "execution_count": null,
   "metadata": {},
   "outputs": [],
   "source": []
  }
 ],
 "metadata": {
  "kernelspec": {
   "display_name": "Python 3",
   "language": "python",
   "name": "python3"
  },
  "language_info": {
   "codemirror_mode": {
    "name": "ipython",
    "version": 3
   },
   "file_extension": ".py",
   "mimetype": "text/x-python",
   "name": "python",
   "nbconvert_exporter": "python",
   "pygments_lexer": "ipython3",
   "version": "3.8.3"
  }
 },
 "nbformat": 4,
 "nbformat_minor": 4
}
