{
 "cells": [
  {
   "cell_type": "code",
   "execution_count": 1,
   "metadata": {},
   "outputs": [],
   "source": [
    "import csv\n",
    "import pandas as pd\n",
    "import numpy as np\n",
    "import matplotlib as mpl\n",
    "import matplotlib.pylab as plt"
   ]
  },
  {
   "cell_type": "code",
   "execution_count": 2,
   "metadata": {
    "scrolled": true
   },
   "outputs": [
    {
     "data": {
      "text/plain": [
       "227"
      ]
     },
     "execution_count": 2,
     "metadata": {},
     "output_type": "execute_result"
    }
   ],
   "source": [
    "csv_file = pd.read_csv('./average_4weeks.csv')\n",
    "cols = list(csv_file.columns)\n",
    "cols = cols[1:]\n",
    "csv_data = csv_file[cols] # person_id 행 삭제"
   ]
  },
  {
   "cell_type": "code",
   "execution_count": 10,
   "metadata": {},
   "outputs": [
    {
     "name": "stdout",
     "output_type": "stream",
     "text": [
      "finish\n"
     ]
    }
   ],
   "source": [
    "result_csv = open('final_have_outlier_forHR.csv', 'w', encoding='utf-8', newline='')\n",
    "result2_csv = open('final_have_outlier.csv', 'w', encoding='utf-8', newline='')\n",
    "wr = csv.writer(result_csv)\n",
    "wrr = csv.writer(result2_csv)\n",
    "wr.writerow(['name', 'mon_tue', 'tue_wed', 'wed_thu', 'thu_fri', 'fri_sat', 'sat_sun', 'days_sat', 'days_sun', 'days_ends', 'var'])\n",
    "wrr.writerow(['name', 'mon', 'tue', 'wed', 'thu', 'fri', 'sat', 'sun'])\n",
    "\n",
    "outlier = False\n",
    "idx = 0\n",
    "for i in range(0, len(csv_data)):\n",
    "    data = csv_data.loc[i][:]\n",
    "    \"\"\" # outlier 제거\n",
    "    for k in data:\n",
    "        if k >= 20000:\n",
    "            outlier = True\n",
    "            #print(\"outlier = \", data)\n",
    "            break\n",
    "        else:\n",
    "            outlier = False\n",
    "    \"\"\"\n",
    "    if outlier == False: # outlier가 아니면\n",
    "        # 클러스터링에 사용할 변수 구하기\n",
    "        name = 'number'+str(idx)\n",
    "        # 연속된 두 요일의 증감률\n",
    "        array = []\n",
    "\n",
    "        # 주중 평균과 주말 결음수간의 증감률\n",
    "        week_days = df.iloc[i, 0:5]\n",
    "        days_means = sum(week_days, 0.0)/len(week_days)\n",
    "\n",
    "        sat = df.iloc[i, 5]  # 토요일 걸음수\n",
    "        sun = df.iloc[i, 6]  # 일요일 걸음수\n",
    "        w_sat = ((sat - days_means)/days_means)*100\n",
    "        w_sun = ((sun - days_means)/days_means)*100\n",
    "\n",
    "        # 주중 평균과 주말 평균 간의 증감률\n",
    "        weekends = df.iloc[i, 5:7]\n",
    "        ends_means = sum(weekends, 0.0)/2\n",
    "        days_ends = ((ends_means - days_means)/days_means)*100\n",
    "\n",
    "        # 분산 구하기\n",
    "        a = df.iloc[i, :]*0.001\n",
    "        v = np.var(a)\n",
    "\n",
    "        # 증감률 구하기\n",
    "        for j in range(1, 7):\n",
    "            prev = df.iloc[i, j-1] # j-1 : 0, 1, 2, 3, 4, 5\n",
    "            next = df.iloc[i, j] # j : 1, 2, 3, 4, 5, 6\n",
    "            array.append(((next - prev)/prev)*100)\n",
    "\n",
    "        wr.writerow([name, array[0], array[1], array[2], array[3], array[4], array[5], w_sat, w_sun, days_ends, v])\n",
    "        \n",
    "        wrr.writerow([name, csv_data.loc[i][0], csv_data.loc[i][1], csv_data.loc[i][2], csv_data.loc[i][3], csv_data.loc[i][4], csv_data.loc[i][5], csv_data.loc[i][6]])\n",
    "        idx += 1 # 인덱스 증가\n",
    "    \n",
    "    outlier = False # outlier 판단 변수 초기화\n",
    "\n",
    "print(\"finish\")"
   ]
  },
  {
   "cell_type": "code",
   "execution_count": 11,
   "metadata": {},
   "outputs": [],
   "source": [
    "result_csv.close()\n",
    "result2_csv.close()"
   ]
  }
 ],
 "metadata": {
  "kernelspec": {
   "display_name": "Python 3",
   "language": "python",
   "name": "python3"
  },
  "language_info": {
   "codemirror_mode": {
    "name": "ipython",
    "version": 3
   },
   "file_extension": ".py",
   "mimetype": "text/x-python",
   "name": "python",
   "nbconvert_exporter": "python",
   "pygments_lexer": "ipython3",
   "version": "3.8.3"
  }
 },
 "nbformat": 4,
 "nbformat_minor": 4
}
