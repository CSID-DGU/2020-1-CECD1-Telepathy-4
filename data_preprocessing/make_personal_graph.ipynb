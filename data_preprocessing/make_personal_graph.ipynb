{
 "cells": [
  {
   "cell_type": "code",
   "execution_count": 26,
   "metadata": {},
   "outputs": [],
   "source": [
    "import csv\n",
    "import pandas as pd\n",
    "import matplotlib as mpl\n",
    "import matplotlib.pylab as plt\n",
    "\n",
    "#csv = pd.read_csv('average_4weeks_morethanamonth.csv', names=['person_id', 'mon', 'tue', 'wed', 'thu', 'fri', 'sat', 'sun'])\n",
    "csv = pd.read_csv('average_4weeks_morethanamonth.csv')\n",
    "cols = list(csv.columns)\n",
    "cols = cols[1:]\n",
    "csv_noid = csv[cols]"
   ]
  },
  {
   "cell_type": "code",
   "execution_count": 4,
   "metadata": {},
   "outputs": [],
   "source": [
    "# 이거는 이미지로 저장하는 거\n",
    "font_name = mpl.font_manager.FontProperties(fname='C:/Windows/Fonts/malgun.ttf').get_name()\n",
    "mpl.rc('font', family=font_name)\n",
    "    \n",
    "for i in range(1, len(csv_file) + 1):\n",
    "    data = csv_file.loc[i][['mon', 'tue', 'wed', 'thu', 'fri', 'sat', 'sun']]\n",
    "    data = data.astype('float')\n",
    "    ax = data.plot(title='Steps', figsize=(12,4), legend=True, fontsize=12)\n",
    "    ax.set_xlabel('day of the week', fontsize=12)\n",
    "    ax.set_ylabel('step counts', fontsize=12)\n",
    "    ax.legend(['person_id'], fontsize=12)\n",
    "    \n",
    "    avg = sum(data, 0.0) / len(data) # 요일들 전체의 평균값 구하고\n",
    "    \n",
    "    plt.ylim(0, avg * 2) # y축 범위 설정\n",
    "    # 여기까지 한 행 그래프 그리기\n",
    "    \n",
    "    person_id = csv_file.loc[i]['person_id'] + '_' + str(i) + '.png'\n",
    "    plt.savefig(person_id)\n",
    "    plt.close('all') # 그래프 그린 거 지우기(plot을 또 쓰면 그래프 겹쳐져서 나옴)"
   ]
  },
  {
   "cell_type": "code",
   "execution_count": 39,
   "metadata": {},
   "outputs": [
    {
     "data": {
      "image/png": "[encoded data removed]",
      "text/plain": [
       "<Figure size 864x288 with 1 Axes>"
      ]
     },
     "metadata": {
      "needs_background": "light"
     },
     "output_type": "display_data"
    }
   ],
   "source": [
    "# 이거는 이미지로 저장 안 하는 거\n",
    "font_name = mpl.font_manager.FontProperties(fname='C:/Windows/Fonts/malgun.ttf').get_name()\n",
    "mpl.rc('font', family=font_name)\n",
    "\n",
    "for i in range(4, 5):\n",
    "    data = csv_noid.loc[i][['mon', 'tue', 'wed', 'thu', 'fri', 'sat', 'sun']]\n",
    "    data = data.astype('float')\n",
    "    name = csv.loc[i]['person_id']\n",
    "    ax = data.plot(title='Steps', figsize=(12,4), legend=name, fontsize=12)\n",
    "    ax.set_xlabel('day of the week', fontsize=12)\n",
    "    ax.set_ylabel('step counts', fontsize=12)\n",
    "    #avg = sum(data, 0.0) / len(data)\n",
    "    \n",
    "    plt.ylim(0, 23000)\n",
    "    # 여기까지 한 행 그래프 그리기\n",
    "    \n",
    "    #person_id = csv_file.loc[i]['person_id'] + '.png'\n",
    "    #plt.savefig(person_id)\n",
    "    #plt.close('all') # 그래프 그린 거 지우기(plot을 또 쓰면 그래프 겹쳐져서 나옴)"
   ]
  },
  {
   "cell_type": "code",
   "execution_count": null,
   "metadata": {},
   "outputs": [],
   "source": []
  }
 ],
 "metadata": {
  "kernelspec": {
   "display_name": "Python 3",
   "language": "python",
   "name": "python3"
  },
  "language_info": {
   "codemirror_mode": {
    "name": "ipython",
    "version": 3
   },
   "file_extension": ".py",
   "mimetype": "text/x-python",
   "name": "python",
   "nbconvert_exporter": "python",
   "pygments_lexer": "ipython3",
   "version": "3.7.3"
  }
 },
 "nbformat": 4,
 "nbformat_minor": 2
}
