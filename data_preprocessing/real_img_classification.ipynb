{
 "cells": [
  {
   "cell_type": "code",
   "execution_count": 1,
   "metadata": {},
   "outputs": [],
   "source": [
    "import csv\n",
    "import pandas as pd\n",
    "import numpy as np\n",
    "import matplotlib as mpl\n",
    "import matplotlib.pylab as plt"
   ]
  },
  {
   "cell_type": "code",
   "execution_count": 2,
   "metadata": {},
   "outputs": [],
   "source": [
    "#real_data = pd.read_csv('./real_classification2.csv')\n",
    "real_data = pd.read_csv('./all_classification.csv')\n",
    "names = real_data.iloc[:, 0]"
   ]
  },
  {
   "cell_type": "code",
   "execution_count": 3,
   "metadata": {},
   "outputs": [],
   "source": [
    "font_name = mpl.font_manager.FontProperties(fname='C:/Windows/Fonts/malgun.ttf').get_name()\n",
    "mpl.rc('font', family=font_name)"
   ]
  },
  {
   "cell_type": "code",
   "execution_count": 25,
   "metadata": {},
   "outputs": [
    {
     "name": "stdout",
     "output_type": "stream",
     "text": [
      "finish\n"
     ]
    },
    {
     "data": {
      "text/plain": [
       "<Figure size 1080x720 with 0 Axes>"
      ]
     },
     "metadata": {},
     "output_type": "display_data"
    }
   ],
   "source": [
    "for i in range(0, len(real_data)):\n",
    "    name = real_data.iloc[i, 0] # name\n",
    "    group = real_data.iloc[i, 1] # group\n",
    "    #print(group)\n",
    "    data = real_data.iloc[i, 2:9]\n",
    "    #folder = './real_img_class2/'\n",
    "    folder = './all_img_class_new/' # 상위 폴더\n",
    "    dfolder =''\n",
    "    \n",
    "    # 그룹마다 다른 폴더에 넣기 위한 조건문\n",
    "    if group == 1:\n",
    "        dfolder = '1'\n",
    "    elif group == 2:\n",
    "        dfolder = '2'\n",
    "    elif group == 3:\n",
    "        dfolder = '3'\n",
    "    elif group == 4:\n",
    "        dfolder = '4'\n",
    "    elif group == 5:\n",
    "        dfolder = '5'\n",
    "    elif group == 6:\n",
    "        dfolder = '6'\n",
    "\n",
    "    # 이미지로 저장\n",
    "    data = data.astype('float')\n",
    "    tt = name + ' : 일주일의 평균 걸음 수 그래프'\n",
    "    ax = data.plot(figsize=(15,10), legend=True, fontsize=15, color='red', marker='o', linewidth='5', markersize='10')\n",
    "    plt.plot(figsize=(15,10), legend=True, fontsize=15, color='red', marker='o', linewidth='5', markersize='10')\n",
    "    ax.set_xlabel('요일', fontsize=15)\n",
    "    ax.set_ylabel('걸음 수', fontsize=15)\n",
    "    ax.set_title(tt, fontsize=15)\n",
    "    ax.legend(['걸음 수'], fontsize=20)\n",
    "\n",
    "    plt.ylim(0, 20000) # y축 범위 설정\n",
    "    # 여기까지 한 행 그래프 그리기\n",
    "    img_name = folder+dfolder+'/'+name+ '.png'\n",
    "    #print(img_name)\n",
    "    #plt.show()\n",
    "    plt.savefig(img_name)\n",
    "    plt.clf()\n",
    "        \n",
    "\n",
    "print(\"finish\")"
   ]
  },
  {
   "cell_type": "code",
   "execution_count": null,
   "metadata": {},
   "outputs": [],
   "source": []
  }
 ],
 "metadata": {
  "kernelspec": {
   "display_name": "Python 3",
   "language": "python",
   "name": "python3"
  },
  "language_info": {
   "codemirror_mode": {
    "name": "ipython",
    "version": 3
   },
   "file_extension": ".py",
   "mimetype": "text/x-python",
   "name": "python",
   "nbconvert_exporter": "python",
   "pygments_lexer": "ipython3",
   "version": "3.8.3"
  }
 },
 "nbformat": 4,
 "nbformat_minor": 4
}
