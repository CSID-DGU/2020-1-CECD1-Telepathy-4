{
 "cells": [
  {
   "cell_type": "code",
   "execution_count": 1,
   "metadata": {},
   "outputs": [],
   "source": [
    "import csv\n",
    "import pandas as pd\n",
    "import numpy as np\n",
    "import math\n",
    "import matplotlib as mpl\n",
    "import matplotlib.pylab as plt"
   ]
  },
  {
   "cell_type": "code",
   "execution_count": 3,
   "metadata": {
    "scrolled": true
   },
   "outputs": [],
   "source": [
    "#real_data = pd.read_csv('./real_data_227.csv')\n",
    "real_data = pd.read_csv('./all_data.csv')\n",
    "names = real_data.iloc[:, 0] # name 행"
   ]
  },
  {
   "cell_type": "code",
   "execution_count": 4,
   "metadata": {},
   "outputs": [
    {
     "name": "stdout",
     "output_type": "stream",
     "text": [
      "finish\n"
     ]
    }
   ],
   "source": [
    "real_csv = open('all_data_forHC.csv', 'w', encoding='utf-8', newline='')\n",
    "#real_csv = open('real_data_forHC.csv', 'w', encoding='utf-8', newline='')\n",
    "wr = csv.writer(real_csv)\n",
    "wr.writerow(['name', 'mon', 'tue', 'wed', 'thu', 'fri', 'sat', 'sun', 'mon_tue', 'tue_wed', 'wed_thu', 'thu_fri', 'fri_sat', 'sat_sun', 'var', 'v_rate', 'days_ends', 'max_rate', 'min_rate', 'count', 'max_ends', 'min_ends', 'total_rate'])\n",
    "\n",
    "idx = 0\n",
    "for i in range(0, len(real_data)):\n",
    "    data = real_data.iloc[i, 1:8] # 걸음 수 데이터\n",
    "    one_name = real_data.iloc[i, 0] # 이름\n",
    "    array = []\n",
    "\n",
    "    # 주중 평균과 주말 평균 간의 증감률\n",
    "    weekdays = real_data.iloc[i, 1:6]  # 주중\n",
    "    weekends = real_data.iloc[i, 6:8]  # 주말\n",
    "    days_means = sum(weekdays, 0.0)/len(weekdays) # 주중 평균\n",
    "    ends_means = sum(weekends, 0.0)/len(weekends) # 주말 평균\n",
    "    days_ends = ((ends_means - days_means)/days_means)*100\n",
    "\n",
    "    mon = real_data.iloc[i, 1]\n",
    "    tue = real_data.iloc[i, 2]\n",
    "    wed = real_data.iloc[i, 3]\n",
    "    thu = real_data.iloc[i, 4]\n",
    "    fri = real_data.iloc[i, 5]\n",
    "    sat = real_data.iloc[i, 6]  # 토요일 걸음수\n",
    "    sun = real_data.iloc[i, 7]  # 일요일 걸음수\n",
    "    \n",
    "    # 분산 구하기\n",
    "    a = real_data.iloc[i, 1:8]*0.001\n",
    "    v = np.var(a) # 분산\n",
    "    v_rate = 0\n",
    "    if v < 0.35:\n",
    "        v_rate = 100\n",
    "        \n",
    "    count = 0\n",
    "    # 증감률 구하기\n",
    "    for j in range(2, 8):\n",
    "        prev = real_data.iloc[i, j-1] # j-1 : 1, 2, 3, 4, 5, 6\n",
    "        next = real_data.iloc[i, j] # j : 2, 3, 4, 5, 6, 7\n",
    "        rate = ((next - prev)/prev)*100\n",
    "        if rate > 0:\n",
    "            count += 1\n",
    "        elif rate < 0:\n",
    "            count -= 1\n",
    "        array.append(rate)\n",
    "    \n",
    "    # 연속적인 증가/감소를 위한 변수\n",
    "    if count != 6 and count != -6:\n",
    "        count = 0\n",
    "    elif count == 6:\n",
    "        count = 100\n",
    "    elif count == -6:\n",
    "        count = -100\n",
    "    \n",
    "    ldata = list(data)\n",
    "    aver = sum(data) / 7\n",
    "    mini = min(data) # 최대값\n",
    "    maxi = max(data) # 최소값\n",
    "    \n",
    "    # 주말 증가/감소를 위한 변수\n",
    "    max_ends = 0\n",
    "    min_ends = 0\n",
    "    if (maxi == sat or maxi == sun) and days_means < sat and days_means < sun:\n",
    "        max_ends = 100\n",
    "    if (mini == sat or mini == sun) and days_means > sat and days_means > sun:\n",
    "        min_ends = -100\n",
    "    \n",
    "    ldata.remove(mini)\n",
    "    ldata.remove(maxi)\n",
    "    \n",
    "    smini = min(ldata)\n",
    "    smaxi = max(ldata)\n",
    "    \n",
    "    max_rate = abs((maxi - smaxi) / aver * 100) # 최대값과 두번째 최대값의 증감률\n",
    "    min_rate = abs((mini - smini) / aver * 100) # 최소값과 두번째 최소값의 증감률\n",
    "    \n",
    "    if v_rate == 100: # 분산이 충분히 작으면\n",
    "        # 나머지 변수들에 영향을 받지 않도록 0으로\n",
    "        count = 0\n",
    "        max_ends = 0\n",
    "        min_ends = 0\n",
    "    \n",
    "    if max_ends == 100 or min_ends == -100: # 주말 증가/감소인 경우\n",
    "        max_rate = 0\n",
    "        min_rate = 0\n",
    "    \n",
    "    total_rate = 0\n",
    "    if max_rate >= 50 and min_rate < 25: # 특정 요일 증가\n",
    "        total_rate = 100\n",
    "    elif max_rate < 50 and min_rate >= 25: # 특정 요일 감소\n",
    "        total_rate = -100  \n",
    "    \n",
    "    # csv로 저장\n",
    "    wr.writerow([one_name, mon, tue, wed, thu, fri, sat, sun, array[0], array[1], array[2], array[3], array[4], array[5], v, v_rate, days_ends, max_rate, min_rate, count, max_ends, min_ends, total_rate])\n",
    "\n",
    "print(\"finish\")\n",
    "real_csv.close()"
   ]
  }
 ],
 "metadata": {
  "kernelspec": {
   "display_name": "Python 3",
   "language": "python",
   "name": "python3"
  },
  "language_info": {
   "codemirror_mode": {
    "name": "ipython",
    "version": 3
   },
   "file_extension": ".py",
   "mimetype": "text/x-python",
   "name": "python",
   "nbconvert_exporter": "python",
   "pygments_lexer": "ipython3",
   "version": "3.8.3"
  }
 },
 "nbformat": 4,
 "nbformat_minor": 4
}
